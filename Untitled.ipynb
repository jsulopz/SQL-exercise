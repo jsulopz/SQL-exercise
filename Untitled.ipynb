{
 "cells": [
  {
   "cell_type": "code",
   "execution_count": 15,
   "id": "773193e6-9713-40ef-9528-73adc4db69c8",
   "metadata": {},
   "outputs": [],
   "source": [
    "import sqlite3\n",
    "\n",
    "con = sqlite3.connect('database.db')\n",
    "\n",
    "with open('1_build_schema.sql', 'r') as f:\n",
    "    con.executescript(f.read())\n",
    "\n",
    "import pandas as pd\n",
    "\n",
    "pd.read_sql(sql='select * from manufacturers', con=con)"
   ]
  },
  {
   "cell_type": "code",
   "execution_count": 16,
   "id": "5292b35f-1b7d-4d7e-9503-ebb8f5df7473",
   "metadata": {},
   "outputs": [],
   "source": [
    "import os"
   ]
  },
  {
   "cell_type": "code",
   "execution_count": 18,
   "id": "0bff5da6-0e1e-44b8-806a-b44ec6068043",
   "metadata": {},
   "outputs": [],
   "source": [
    "os.chdir('../')"
   ]
  },
  {
   "cell_type": "code",
   "execution_count": 21,
   "id": "4147ee72-6a74-431d-bc75-732ebb316c97",
   "metadata": {},
   "outputs": [],
   "source": [
    "sqls = [i for i in os.listdir() if 'SQL' in i]"
   ]
  },
  {
   "cell_type": "code",
   "execution_count": 26,
   "id": "07930671-620d-4a92-be94-7ec424f453b6",
   "metadata": {},
   "outputs": [
    {
     "ename": "OperationalError",
     "evalue": "near \"Provider\": syntax error",
     "output_type": "error",
     "traceback": [
      "\u001b[0;31m---------------------------------------------------------------------------\u001b[0m",
      "\u001b[0;31mOperationalError\u001b[0m                          Traceback (most recent call last)",
      "\u001b[0;32m/var/folders/24/tg28vxls25l9mjvqrnh0plc80000gn/T/ipykernel_34252/1984936594.py\u001b[0m in \u001b[0;36m<module>\u001b[0;34m\u001b[0m\n\u001b[1;32m      6\u001b[0m \u001b[0;34m\u001b[0m\u001b[0m\n\u001b[1;32m      7\u001b[0m             \u001b[0;32mwith\u001b[0m \u001b[0mopen\u001b[0m\u001b[0;34m(\u001b[0m\u001b[0mos\u001b[0m\u001b[0;34m.\u001b[0m\u001b[0mpath\u001b[0m\u001b[0;34m.\u001b[0m\u001b[0mjoin\u001b[0m\u001b[0;34m(\u001b[0m\u001b[0mchapter\u001b[0m\u001b[0;34m,\u001b[0m \u001b[0mi\u001b[0m\u001b[0;34m)\u001b[0m\u001b[0;34m,\u001b[0m \u001b[0;34m'r'\u001b[0m\u001b[0;34m)\u001b[0m \u001b[0;32mas\u001b[0m \u001b[0mf\u001b[0m\u001b[0;34m:\u001b[0m\u001b[0;34m\u001b[0m\u001b[0;34m\u001b[0m\u001b[0m\n\u001b[0;32m----> 8\u001b[0;31m                 \u001b[0mcon\u001b[0m\u001b[0;34m.\u001b[0m\u001b[0mexecutescript\u001b[0m\u001b[0;34m(\u001b[0m\u001b[0mf\u001b[0m\u001b[0;34m.\u001b[0m\u001b[0mread\u001b[0m\u001b[0;34m(\u001b[0m\u001b[0;34m)\u001b[0m\u001b[0;34m)\u001b[0m\u001b[0;34m\u001b[0m\u001b[0;34m\u001b[0m\u001b[0m\n\u001b[0m\u001b[1;32m      9\u001b[0m             \u001b[0mcon\u001b[0m\u001b[0;34m.\u001b[0m\u001b[0mclose\u001b[0m\u001b[0;34m(\u001b[0m\u001b[0;34m)\u001b[0m\u001b[0;34m\u001b[0m\u001b[0;34m\u001b[0m\u001b[0m\n",
      "\u001b[0;31mOperationalError\u001b[0m: near \"Provider\": syntax error"
     ]
    }
   ],
   "source": [
    "for chapter in sqls:\n",
    "    files = os.listdir(chapter)\n",
    "    for i in files:\n",
    "        if 'build' in i:\n",
    "            con = sqlite3.connect(os.path.join(chapter, 'database.db'))\n",
    "\n",
    "            with open(os.path.join(chapter, i), 'r') as f:\n",
    "                con.executescript(f.read())\n",
    "            con.close()"
   ]
  },
  {
   "cell_type": "code",
   "execution_count": 27,
   "id": "e0ea6c16-598e-4575-a4b5-292a5d1a1e0f",
   "metadata": {},
   "outputs": [
    {
     "data": {
      "text/plain": [
       "'SQL_exercise_05'"
      ]
     },
     "execution_count": 27,
     "metadata": {},
     "output_type": "execute_result"
    }
   ],
   "source": [
    "chapter"
   ]
  },
  {
   "cell_type": "code",
   "execution_count": 28,
   "id": "10cf1429-db02-4975-934f-5caca0faf934",
   "metadata": {},
   "outputs": [
    {
     "data": {
      "text/plain": [
       "['SQL_exercise_09',\n",
       " 'SQL_exercise_07',\n",
       " 'SQL_exercise_06',\n",
       " 'SQL_exercise_01',\n",
       " 'SQL_exercise_08',\n",
       " 'SQL_exercise_10',\n",
       " 'SQL_exercise_04',\n",
       " 'SQL_exercise_03',\n",
       " 'SQL_exercise_02',\n",
       " 'SQL_exercise_05']"
      ]
     },
     "execution_count": 28,
     "metadata": {},
     "output_type": "execute_result"
    }
   ],
   "source": [
    "sqls"
   ]
  },
  {
   "cell_type": "code",
   "execution_count": null,
   "id": "65051c33-0781-4059-941e-3c0a2838240d",
   "metadata": {},
   "outputs": [],
   "source": []
  }
 ],
 "metadata": {
  "kernelspec": {
   "display_name": "Python 3 (ipykernel)",
   "language": "python",
   "name": "python3"
  },
  "language_info": {
   "codemirror_mode": {
    "name": "ipython",
    "version": 3
   },
   "file_extension": ".py",
   "mimetype": "text/x-python",
   "name": "python",
   "nbconvert_exporter": "python",
   "pygments_lexer": "ipython3",
   "version": "3.9.7"
  }
 },
 "nbformat": 4,
 "nbformat_minor": 5
}
