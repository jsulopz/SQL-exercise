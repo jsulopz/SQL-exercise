{
 "cells": [
  {
   "cell_type": "code",
   "execution_count": 15,
   "id": "773193e6-9713-40ef-9528-73adc4db69c8",
   "metadata": {},
   "outputs": [],
   "source": [
    "import sqlite3\n",
    "\n",
    "con = sqlite3.connect('database.db')\n",
    "\n",
    "with open('1_build_schema.sql', 'r') as f:\n",
    "    con.executescript(f.read())\n",
    "\n",
    "import pandas as pd\n",
    "\n",
    "pd.read_sql(sql='select * from manufacturers', con=con)"
   ]
  },
  {
   "cell_type": "code",
   "execution_count": 16,
   "id": "5292b35f-1b7d-4d7e-9503-ebb8f5df7473",
   "metadata": {},
   "outputs": [],
   "source": [
    "import os"
   ]
  },
  {
   "cell_type": "code",
   "execution_count": 17,
   "id": "4147ee72-6a74-431d-bc75-732ebb316c97",
   "metadata": {},
   "outputs": [
    {
     "data": {
      "text/plain": [
       "['1_questions.sql',\n",
       " '1_questions_and_solutions.sql',\n",
       " '.ipynb_checkpoints',\n",
       " '1_build_schema.sql',\n",
       " '1_schema_figure.png',\n",
       " 'database.db']"
      ]
     },
     "execution_count": 17,
     "metadata": {},
     "output_type": "execute_result"
    }
   ],
   "source": [
    "os.listdir()"
   ]
  },
  {
   "cell_type": "code",
   "execution_count": null,
   "id": "07930671-620d-4a92-be94-7ec424f453b6",
   "metadata": {},
   "outputs": [],
   "source": []
  }
 ],
 "metadata": {
  "kernelspec": {
   "display_name": "Python 3 (ipykernel)",
   "language": "python",
   "name": "python3"
  },
  "language_info": {
   "codemirror_mode": {
    "name": "ipython",
    "version": 3
   },
   "file_extension": ".py",
   "mimetype": "text/x-python",
   "name": "python",
   "nbconvert_exporter": "python",
   "pygments_lexer": "ipython3",
   "version": "3.9.7"
  }
 },
 "nbformat": 4,
 "nbformat_minor": 5
}
